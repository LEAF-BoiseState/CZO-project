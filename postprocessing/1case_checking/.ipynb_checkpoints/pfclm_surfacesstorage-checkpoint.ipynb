{
 "cells": [
  {
   "cell_type": "code",
   "execution_count": 1,
   "metadata": {},
   "outputs": [],
   "source": [
    "import matplotlib.pyplot as plt\n",
    "import pfb_functions as pfn\n",
    "import numpy as np\n",
    "import pandas as pd"
   ]
  },
  {
   "cell_type": "code",
   "execution_count": 2,
   "metadata": {},
   "outputs": [],
   "source": [
    "#-----------------------------------------------------------------------------\n",
    "# Set up run info\n",
    "#-----------------------------------------------------------------------------\n",
    "starttime =  1\n",
    "stoptime  =  20\n",
    "\n",
    "figure_output_frequency=1\n",
    "\n",
    "# \n",
    "case_namelist = ['pfclm1_base1','pfclm1_base40'\n",
    "                 'pfclm2_base1','pfclm2_base40']\n",
    "num_case = len(case_namelist)\n",
    "data_length = stoptime\n",
    "total_SS_storage_matrix =np.zeros((data_length,num_case),dtype=float)\n",
    "surface_SS_depth_matrix =np.zeros((data_length,num_case),dtype=float)\n"
   ]
  },
  {
   "cell_type": "code",
   "execution_count": 3,
   "metadata": {},
   "outputs": [],
   "source": [
    "#### read pfb file\n",
    "def SS_compute (file_path,case_index,time_step):\n",
    "\n",
    "#     if time_step >0:\n",
    "   \n",
    "    fnamepress = ('%s/%s.out.press.%05d.pfb' %(file_path,case_index,time_step))\n",
    "    press = pfn.read(fnamepress)\n",
    "    \n",
    "    SS_depth = press[:,:,15]>0\n",
    "    SS_storage = SS_depth*30*30\n",
    "    total_SS_storage = np.sum (SS_storage)\n",
    "    \n",
    "    return press\n"
   ]
  },
  {
   "cell_type": "code",
   "execution_count": 4,
   "metadata": {},
   "outputs": [
    {
     "ename": "NameError",
     "evalue": "name 'press' is not defined",
     "output_type": "error",
     "traceback": [
      "\u001b[0;31m---------------------------------------------------------------------------\u001b[0m",
      "\u001b[0;31mNameError\u001b[0m                                 Traceback (most recent call last)",
      "\u001b[0;32m<ipython-input-4-c8f3271b32f6>\u001b[0m in \u001b[0;36m<module>\u001b[0;34m\u001b[0m\n\u001b[0;32m----> 1\u001b[0;31m \u001b[0mpress\u001b[0m\u001b[0;34m[\u001b[0m\u001b[0mpress\u001b[0m\u001b[0;34m[\u001b[0m\u001b[0;34m:\u001b[0m\u001b[0;34m,\u001b[0m\u001b[0;34m:\u001b[0m\u001b[0;34m,\u001b[0m\u001b[0;36m15\u001b[0m\u001b[0;34m]\u001b[0m\u001b[0;34m>\u001b[0m\u001b[0;36m0\u001b[0m\u001b[0;34m]\u001b[0m\u001b[0;34m\u001b[0m\u001b[0;34m\u001b[0m\u001b[0m\n\u001b[0m",
      "\u001b[0;31mNameError\u001b[0m: name 'press' is not defined"
     ]
    }
   ],
   "source": [
    "press[press[:,:,15]>0]"
   ]
  },
  {
   "cell_type": "code",
   "execution_count": null,
   "metadata": {},
   "outputs": [],
   "source": [
    "a=press[:,:,15]>0\n",
    "print (a)\n",
    "press_top=press[:,:,15]\n",
    "# press_top\n",
    "press_top"
   ]
  },
  {
   "cell_type": "code",
   "execution_count": null,
   "metadata": {},
   "outputs": [],
   "source": [
    "# def write_1D (outputfile_depth_name,outputfile_volume_name,total_ET_storage,surface_ET_depth):\n",
    "#     np.savetxt(outputfile_depth_name,surface_ET_depth,delimiter=\",\")\n",
    "#     np.savetxt(outputfile_volume_name,total_ET_storage,delimiter=\",\")"
   ]
  },
  {
   "cell_type": "code",
   "execution_count": null,
   "metadata": {},
   "outputs": [],
   "source": [
    "def plot_ws_2D (time_step,figure_output_frequency,data_3D,sfpath,case_name):\n",
    "    if time_step%figure_output_frequency==0:\n",
    "        plt.figure(figsize=(10, 7))\n",
    "        plt.pcolor(data_3D[:,:,15],cmap='jet')\n",
    "        plt.colorbar()\n",
    "        plt.savefig('%s/fig/%s_press_top_%05d.png'% (sfpath,case_name,time_step))\n",
    "        plt.close()     "
   ]
  },
  {
   "cell_type": "code",
   "execution_count": null,
   "metadata": {},
   "outputs": [],
   "source": [
    "# Main function\n",
    "if __name__ == \"__main__\":\n",
    "\n",
    "    outputfile_depth_name = ('/home/chaochen/payette/chaochen/CZO/Chao/Demonstration_example/landlab_Const.Saprolite/postprocessing/surfacestorage_cal/ET_depth.csv')\n",
    "    outputfile_volume_name = ('/home/chaochen/payette/chaochen/CZO/Chao/Demonstration_example/landlab_Const.Saprolite/postprocessing/surfacestorage_cal/ET_volume.csv')\n",
    "\n",
    "    sfpath=('/home/chaochen/payette/chaochen/CZO/Chao/Demonstration_example/landlab_Const.Saprolite/postprocessing/surfacestorage_cal/')\n",
    "    for case_index in case_namelist:\n",
    "        file_path=('/home/chaochen/payette/chaochen/CZO/Chao/Demonstration_example/landlab_Const.Saprolite/extended_simulation/outputs_%s' %(case_index))\n",
    "        for time_step in range(stoptime):\n",
    "            \n",
    "            print (case_index)\n",
    "            print (time_step)\n",
    "            (press) = SS_compute(file_path,case_index,time_step)\n",
    "            plot_ws_2D (time_step,figure_output_frequency,press,sfpath,case_index)\n",
    "\n",
    "        # oupt location and file name\n",
    "        \n",
    "#             if time_step%stoptime:\n",
    "#     #                 plot_ws_1D (time_step, total_soilwater_depth,total_saprowater_depth)\n",
    "#                 write_1D (outputfile_depth_name,outputfile_volume_name,total_ET_storage,surface_ET_depth)\n",
    "                "
   ]
  },
  {
   "cell_type": "code",
   "execution_count": null,
   "metadata": {},
   "outputs": [],
   "source": []
  },
  {
   "cell_type": "code",
   "execution_count": null,
   "metadata": {},
   "outputs": [],
   "source": []
  }
 ],
 "metadata": {
  "kernelspec": {
   "display_name": "Python 3",
   "language": "python",
   "name": "python3"
  },
  "language_info": {
   "codemirror_mode": {
    "name": "ipython",
    "version": 3
   },
   "file_extension": ".py",
   "mimetype": "text/x-python",
   "name": "python",
   "nbconvert_exporter": "python",
   "pygments_lexer": "ipython3",
   "version": "3.7.4"
  }
 },
 "nbformat": 4,
 "nbformat_minor": 2
}
