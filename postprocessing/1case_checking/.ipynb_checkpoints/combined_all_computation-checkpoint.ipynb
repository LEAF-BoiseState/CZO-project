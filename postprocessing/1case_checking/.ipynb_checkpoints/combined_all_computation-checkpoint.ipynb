{
 "cells": [
  {
   "cell_type": "code",
   "execution_count": 6,
   "metadata": {},
   "outputs": [],
   "source": [
    "import pfb_functions as pfn\n",
    "import numpy as np\n",
    "import pandas as pd\n",
    "import matplotlib.pyplot as plt\n",
    "#import csv\n",
    "\n",
    "# define case names, the output figure frequency\n",
    "figure_output_frequency = 1\n",
    "case_namelist = ['pfclm2_base40']\n",
    "layer_thicknesslist = [\n",
    "[2,\n",
    "1.8232,\n",
    "0.9116,\n",
    "0.9116,\n",
    "0.6837,\n",
    "0.2279,\n",
    "0.0182,\n",
    "0.0137,\n",
    "0.0137,\n",
    "0.0137,\n",
    "0.0137,\n",
    "0.0137,\n",
    "0.0114,\n",
    "0.0091,\n",
    "0.0046,\n",
    "0.0023,\n",
    "]\n",
    "]\n",
    "\n",
    "# define dimensions\n",
    "data_length=336\n",
    "data_length4storage=data_length+1\n",
    "ncols=198\n",
    "nrows=198\n",
    "nlayers=16\n",
    "num_case=len(case_namelist)"
   ]
  },
  {
   "cell_type": "markdown",
   "metadata": {},
   "source": [
    "# computation for subsurface water storage"
   ]
  },
  {
   "cell_type": "code",
   "execution_count": 7,
   "metadata": {},
   "outputs": [],
   "source": [
    "# define output file path\n",
    "sfpath = '/home/chaochen/payette/chaochen/CZO/Chao/Demonstration_example/landlab_Const.Saprolite/postprocessing/1case_checking'\n",
    "outputfile_soilname_volume = 'pfclm_soil_storage_volume.csv'\n",
    "outputfile_saproname_volume = 'pfclm_sapro_storage_volume.csv'\n",
    "\n",
    "outputfile_soilname_depth = 'pfclm_soil_storage_depth.csv'\n",
    "outputfile_saproname_depth = 'pfclm_sapro_storage_depth.csv'\n",
    "\n",
    "soilwater_volume_matrix = np.zeros((data_length4storage,num_case),dtype=float)\n",
    "saprowater_volume_matrix = np.zeros((data_length4storage,num_case),dtype=float)\n",
    "\n",
    "soilwater_depth_matrix = np.zeros((data_length4storage,num_case),dtype=float)\n",
    "saprowater_depth_matrix = np.zeros((data_length4storage,num_case),dtype=float)\n",
    "\n",
    "def thickness_dom (layer_thickness,ncols,nrows,nlayers):\n",
    "    thick_dom = np.zeros((ncols,nrows,nlayers),dtype=float)\n",
    "    for i in range(nlayers):\n",
    "#         thick_dom[:,:,i] = thick_dom[:,:,i] + layer_thickness[i]*5\n",
    "        thick_dom[:,:,i] = layer_thickness[i]*5\n",
    "    return thick_dom\n",
    "\n",
    "def subsurface_storage (case_index,fpath,data_length4storage,num_case,ncols,nrows,case_name,time_step,thick_dom, soilwater_volume_timeseries,saprowater_volume_timeseries,soilwater_depth_timeseries,saprowater_depth_timeseries):\n",
    "\n",
    "#     print (time_step)\n",
    "    fname_sat = '%s/%s.out.satur.%05d.pfb' %(fpath,case_name, time_step)\n",
    "    fname_porosity = '%s/%s.out.porosity.pfb' %(fpath,case_name)\n",
    "    \n",
    "    satur = pfn.read(fname_sat)\n",
    "    porosity = pfn.read(fname_porosity)\n",
    "    \n",
    "    depth_imcompressive = satur*porosity*thick_dom  #in unit of meter\n",
    "    # get all soil layers from domain from soil bottom layer and above\n",
    "    mask_ws_soil  =  depth_imcompressive[:,:,6:]\n",
    "    mask_ws_soil_volume  =  mask_ws_soil*30*30\n",
    "    # print (mask_ws_soil)\n",
    "    mask_ws_sapro =  depth_imcompressive[:,:,1:6]\n",
    "    mask_ws_sapro_volume =  mask_ws_sapro*30*30\n",
    "    # print (mask_ws_sapro)\n",
    "    # sum soil water storage for all cells\n",
    "    total_soilwater_volume_map = np.sum(mask_ws_soil_volume, axis=2)\n",
    "    total_saprowater_volume_map = np.sum(mask_ws_sapro_volume, axis=2)\n",
    "#     \n",
    "\n",
    "    \n",
    "    total_soilwater_depth_map =np.sum(mask_ws_soil, axis=2)\n",
    "    total_saprowater_depth_map =np.sum(mask_ws_sapro, axis=2)\n",
    "#     print (total_soilwater_depth_map)\n",
    "    # compute sum/mean for volume/depth and append the dataframe\n",
    "    soilwater_volume_timeseries[time_step,case_index] =np.sum(total_soilwater_volume_map)\n",
    "#     print (time_step,case_index,np.sum(total_soilwater_volume_map),soilwater_volume_timeseries)\n",
    "    saprowater_volume_timeseries[time_step,case_index]=np.sum(total_saprowater_volume_map)\n",
    "    \n",
    "    soilwater_depth_timeseries[time_step,case_index] =total_soilwater_depth_map.mean()\n",
    "#     print (time_step,case_index,total_soilwater_depth_map.mean(),soilwater_depth_timeseries)\n",
    "    saprowater_depth_timeseries[time_step,case_index]=total_saprowater_depth_map.mean()\n",
    "    \n",
    "    return total_soilwater_volume_map,total_saprowater_volume_map,total_soilwater_depth_map,total_saprowater_depth_map,soilwater_volume_timeseries,saprowater_volume_timeseries,soilwater_depth_timeseries,saprowater_depth_timeseries\n",
    "\n",
    "##### this following function is conflict with the one of surface water storgae computation\n",
    "# def plot_ws_2D (time_step,figure_output_frequency,soil_2D_data,sapro_2D_data,sfpath,case_name,variable):\n",
    "#     if time_step%figure_output_frequency==0:\n",
    "#         plt.figure(figsize=(10, 7))\n",
    "#         plt.pcolor(soil_2D_data,cmap='jet')\n",
    "#         plt.colorbar()\n",
    "#         plt.savefig('%s/fig/%s_soilwaterstorage_%s_%05d.png'% (sfpath,case_name,variable,time_step))\n",
    "#         plt.close()     \n",
    "    \n",
    "#         plt.figure(figsize=(10, 7))\n",
    "#         plt.pcolor(sapro_2D_data,cmap='jet')\n",
    "#         plt.colorbar()\n",
    "#         plt.savefig('%s/fig/%s_saprowaterstorage_%s_%05d.png'% (sfpath,case_name,variable,time_step))\n",
    "#         plt.close()\n",
    "\n",
    "def write_ws_1D (outputfile_soilname,outputfile_saproname, soilwater_data_timeseries,saprowater_data_timeseries):  \n",
    "\n",
    "    np.savetxt(outputfile_soilname,soilwater_data_timeseries,delimiter=\",\")\n",
    "    np.savetxt(outputfile_saproname,saprowater_data_timeseries,delimiter=\",\")\n",
    "\n",
    "    \n",
    "# Main function\n",
    "def main(soilwater_volume_timeseries,saprowater_volume_timeseries,soilwater_depth_timeseries,saprowater_depth_timeseries):\n",
    "    for case_index in range (num_case):\n",
    "        case_name = case_namelist [case_index]\n",
    "        print (case_name)\n",
    "        layer_thickness = layer_thicknesslist [case_index]\n",
    "        fpath = '/home/chaochen/payette/chaochen/CZO/Chao/Demonstration_example/landlab_Const.Saprolite/extended_simulation/outputs_%s_s' % (case_name)\n",
    "        \n",
    "        for time_step in range (data_length4storage):\n",
    "            print (time_step)\n",
    "            thick_dom=thickness_dom(layer_thickness,ncols,nrows,nlayers)\n",
    "            (total_soilwater_volume_map,total_saprowater_volume_map,total_soilwater_depth_map,total_saprowater_depth_map, \\\n",
    "             soilwater_volume_timeseries,saprowater_volume_timeseries,soilwater_depth_timeseries,saprowater_depth_timeseries) \\\n",
    "            =subsurface_storage (case_index,fpath,data_length4storage,num_case,ncols,nrows,case_name,time_step,thick_dom,soilwater_volume_timeseries,saprowater_volume_timeseries,soilwater_depth_timeseries,saprowater_depth_timeseries)\n",
    "            # plot the storage depth, 2D\n",
    "#             plot_ws_2D (time_step,figure_output_frequency,total_soilwater_depth_map,total_saprowater_depth_map,sfpath,case_name,'storageindepth')\n",
    "#             plot_ws_2D (time_step,figure_output_frequency,total_soilwater_volume_map,total_saprowater_volume_map,sfpath,case_name,'storageinvolume')\n",
    "\n",
    "        write_ws_1D (outputfile_soilname_depth,outputfile_saproname_depth,soilwater_depth_timeseries,saprowater_depth_timeseries)\n",
    "        write_ws_1D (outputfile_soilname_volume,outputfile_saproname_volume,soilwater_volume_timeseries,saprowater_volume_timeseries)\n",
    "\n",
    "        return soilwater_volume_timeseries,saprowater_volume_timeseries\n",
    "(soilwater_volume_timeseries,saprowater_volume_timeseries)=main(soilwater_volume_matrix,saprowater_volume_matrix,soilwater_depth_matrix,saprowater_depth_matrix)"
   ]
  },
  {
   "cell_type": "markdown",
   "metadata": {},
   "source": [
    "# Or, read soil and sparolite water"
   ]
  },
  {
   "cell_type": "code",
   "execution_count": 25,
   "metadata": {},
   "outputs": [],
   "source": [
    "#### read pfb file\n",
    "file_name_index= ('pfclm_soil_storage_volume.csv') \n",
    "soilwater_volume_timeseries=pd.read_csv('./%s' %file_name_index, header=None).iloc[:,0]\n",
    "\n",
    "    \n",
    "### the values are computed at the end of each time step, when read 1-5, it put 0-4, so 1 shift is needed\n",
    "#     Datum_SS=Datum_SS_temp.shift(1, axis = 0) \n"
   ]
  },
  {
   "cell_type": "code",
   "execution_count": 26,
   "metadata": {},
   "outputs": [
    {
     "name": "stdout",
     "output_type": "stream",
     "text": [
      "0      4.630718e+06\n",
      "1      4.637060e+06\n",
      "2      4.641703e+06\n",
      "3      4.644723e+06\n",
      "4      4.646447e+06\n",
      "           ...     \n",
      "331    5.107301e+06\n",
      "332    5.105250e+06\n",
      "333    5.103226e+06\n",
      "334    5.101224e+06\n",
      "335    5.099243e+06\n",
      "Name: 0, Length: 336, dtype: float64\n"
     ]
    }
   ],
   "source": [
    "print (soilwater_volume_timeseries)"
   ]
  },
  {
   "cell_type": "markdown",
   "metadata": {},
   "source": [
    "# read, not computate, for surface water storage"
   ]
  },
  {
   "cell_type": "code",
   "execution_count": null,
   "metadata": {},
   "outputs": [],
   "source": [
    "# run the water balnce tcl to compute the surface water storage\n",
    "# import tkinter\n",
    "# tcl = tkinter.Tcl()\n",
    "# # result = tcl.eval (filename runname stoptime TimingInfo_DumpInterval)\n",
    "# result = tcl.eval('source WaterBalance_cal_1case.tcl pfclm2_base40 100 1')\n"
   ]
  },
  {
   "cell_type": "code",
   "execution_count": 11,
   "metadata": {},
   "outputs": [],
   "source": [
    "# total_SS_storage_matrix =np.zeros((data_length4storage,num_case),dtype=float)\n",
    "Datum_SS_temp =pd.DataFrame(index=np.arange(0,data_length+1, 1), columns=case_namelist)\n"
   ]
  },
  {
   "cell_type": "code",
   "execution_count": 12,
   "metadata": {},
   "outputs": [
    {
     "name": "stdout",
     "output_type": "stream",
     "text": [
      "     pfclm2_base40\n",
      "0         0.000000\n",
      "1        58.813240\n",
      "2      1158.972080\n",
      "3      3385.758490\n",
      "4      6814.955156\n",
      "..             ...\n",
      "332   19173.559752\n",
      "333   19169.489658\n",
      "334   19164.947619\n",
      "335   19160.444869\n",
      "336   19156.168105\n",
      "\n",
      "[337 rows x 1 columns]\n"
     ]
    }
   ],
   "source": [
    "#### read pfb file\n",
    "for case_index in case_namelist:\n",
    "    file_name_index= ('total_surface_storage_%s.csv' %(case_index))\n",
    "    \n",
    "    data=pd.read_csv('./csv/%s' %file_name_index , header=None).iloc[:,1]\n",
    "\n",
    "    Datum_SS_temp[case_index]=data\n",
    "    \n",
    "### the values are computed at the end of each time step, when read 1-5, it put 0-4, so 1 shift is needed\n",
    "#     Datum_SS=Datum_SS_temp.shift(1, axis = 0) \n",
    "print (Datum_SS_temp)"
   ]
  },
  {
   "cell_type": "markdown",
   "metadata": {},
   "source": [
    "# read ET,with variable evaptrans"
   ]
  },
  {
   "cell_type": "code",
   "execution_count": 13,
   "metadata": {},
   "outputs": [],
   "source": [
    "Datum_ET_temp =pd.DataFrame(index=np.arange(0,data_length+1, 1), columns=case_namelist)\n"
   ]
  },
  {
   "cell_type": "code",
   "execution_count": 14,
   "metadata": {},
   "outputs": [
    {
     "name": "stdout",
     "output_type": "stream",
     "text": [
      "     pfclm2_base40\n",
      "0              NaN\n",
      "1         0.000000\n",
      "2         0.000000\n",
      "3         0.000000\n",
      "4         0.000000\n",
      "..             ...\n",
      "332     313.533484\n",
      "333     313.169412\n",
      "334     312.412415\n",
      "335     311.497140\n",
      "336     310.356719\n",
      "\n",
      "[337 rows x 1 columns]\n"
     ]
    }
   ],
   "source": [
    "#### read pfb file\n",
    "for case_index in case_namelist:\n",
    "    file_name_index= ('ET_%s.csv' %(case_index))\n",
    "    \n",
    "    data=pd.read_csv('./csv/%s' %file_name_index , header=None).iloc[:,1]\n",
    "\n",
    "    Datum_ET_temp[case_index]=data\n",
    "    \n",
    "### the values are computed at the end of each time step, when read 1-5, it put 0-4, so 1 shift is needed\n",
    "    Datum_ET=Datum_ET_temp.shift(1, axis = 0) \n",
    "print (Datum_ET)"
   ]
  },
  {
   "cell_type": "markdown",
   "metadata": {},
   "source": [
    "# computation for ET"
   ]
  },
  {
   "cell_type": "code",
   "execution_count": null,
   "metadata": {},
   "outputs": [],
   "source": [
    "ET_storage_timeseries =np.zeros((data_length+1,num_case),dtype=float)\n",
    "ET_depth_timeseries =np.zeros((data_length+1,num_case),dtype=float)\n",
    "\n",
    "#### read pfb file\n",
    "def ET_compute (sfpath,file_path,case_index,time_step,figure_output_frequency):\n",
    "\n",
    "    if time_step >0:\n",
    "\n",
    "        fnameevap = ('%s/%s.out.qflx_evap_tot.%05d.pfb' %(file_path,case_index,time_step))\n",
    "        fnametran = ('%s/%s.out.qflx_tran_veg.%05d.pfb' %(file_path,case_index,time_step))\n",
    "\n",
    "        evap_mms = pfn.read(fnameevap)\n",
    "        #print (evap_mms)\n",
    "        tran_mms = pfn.read(fnametran)\n",
    "        #print (tran_mms)\n",
    "\n",
    "\n",
    "        tran_mh =tran_mms *3600 /1000\n",
    "        evap_mh =evap_mms *3600 /1000\n",
    "\n",
    "        surface_tran_volume =tran_mh *30 *30\n",
    "        surface_evap_volume =evap_mh *30 *30\n",
    "\n",
    "        ET_volume_map=surface_tran_volume+surface_evap_volume\n",
    "\n",
    "        surface_tran_depth =tran_mh\n",
    "        surface_evap_depth =evap_mh\n",
    "\n",
    "        ET_depth_map=surface_tran_depth+surface_evap_depth\n",
    "        total_ET_storage = ET_volume_map.sum()      \n",
    "        surface_ET_depth = ET_depth_map.mean()\n",
    "\n",
    "#         global total_ET_storage_timeseries\n",
    "        ET_storage_timeseries[time_step,case_namelist.index(case_index)]= total_ET_storage \n",
    "#         print (time_step, case_index, total_ET_storage, ET_storage_timeseries)\n",
    "        ET_depth_timeseries[time_step,case_namelist.index(case_index)]= surface_ET_depth\n",
    "        \n",
    "        plot_ws_2D_ET (time_step,figure_output_frequency,ET_depth_map[:,:,0],ET_volume_map[:,:,0],sfpath,case_index)\n",
    "\n",
    "#     return surface_ET_volume_map[:,:,0], surface_ET_depth_map[:,:,0], ET_storage_timeseries, ET_depth_timeseries          \n",
    "    return ET_storage_timeseries, ET_depth_timeseries   \n",
    "\n",
    "def write_1D (outputfile_depth_name,outputfile_volume_name, ET_storage_timeseries, ET_depth_timeseries):\n",
    "    np.savetxt(outputfile_volume_name,ET_storage_timeseries ,delimiter=\",\")\n",
    "    np.savetxt(outputfile_depth_name,ET_depth_timeseries,delimiter=\",\")\n",
    "    \n",
    "def plot_ws_2D_ET (time_step,figure_output_frequency,total_ET_depth,total_ET_volume,sfpath,case_name):\n",
    "    if time_step%figure_output_frequency==0:\n",
    "        plt.figure(figsize=(10, 7))\n",
    "        plt.pcolor(total_ET_depth,cmap='jet')\n",
    "        plt.colorbar()\n",
    "        plt.savefig('%s/fig/%s_ET_depth_%05d.png'% (sfpath,case_name,time_step))\n",
    "        plt.close()     \n",
    "    \n",
    "        plt.figure(figsize=(10, 7))\n",
    "        plt.pcolor(total_ET_volume,cmap='jet')\n",
    "        plt.colorbar()\n",
    "#         plt.plot\n",
    "        plt.savefig('%s/fig/%s_ET_volume_%05d.png'% (sfpath,case_name,time_step))\n",
    "        plt.close()\n",
    "        \n",
    "# undistribut the ET and related clm output file, if needed\n",
    "# edit the code in the undist. tcl, when needed!!! expecially the output file location as defined in the tcl script\n",
    "\n",
    "# import tkinter\n",
    "# tcl = tkinter.Tcl()\n",
    "# result = tcl.eval('source undist.tcl pfclm2_base40 1 6')\n",
    "\n",
    "\n",
    "# Main function\n",
    "def main(ET_storage_timeseries,ET_depth_timeseries,sfpath):\n",
    "\n",
    "    for case_index in case_namelist:\n",
    "        file_path=('/home/chaochen/payette/chaochen/CZO/Chao/Demonstration_example/landlab_Const.Saprolite/extended_simulation/outputs_%s_s' %(case_index))\n",
    "        print (case_index)\n",
    "        \n",
    "        for time_step in range(data_length+1):\n",
    "#             print (time_step)\n",
    "            \n",
    "            (ET_storage_timeseries, ET_depth_timeseries) \\\n",
    "            = ET_compute(sfpath,file_path,case_index,time_step,figure_output_frequency)\n",
    "            \n",
    "            \n",
    "    return ET_storage_timeseries,ET_depth_timeseries\n",
    "(ET_storage_timeseries,ET_depth_timeseries)=main(ET_storage_timeseries,ET_depth_timeseries,sfpath)"
   ]
  },
  {
   "cell_type": "code",
   "execution_count": null,
   "metadata": {},
   "outputs": [],
   "source": []
  },
  {
   "cell_type": "code",
   "execution_count": null,
   "metadata": {},
   "outputs": [],
   "source": []
  },
  {
   "cell_type": "code",
   "execution_count": null,
   "metadata": {},
   "outputs": [],
   "source": []
  },
  {
   "cell_type": "code",
   "execution_count": null,
   "metadata": {},
   "outputs": [],
   "source": [
    "# ET_storage_timeseries"
   ]
  },
  {
   "cell_type": "code",
   "execution_count": 15,
   "metadata": {},
   "outputs": [
    {
     "name": "stdout",
     "output_type": "stream",
     "text": [
      "    pfclm2_base40\n",
      "0             NaN\n",
      "1             NaN\n",
      "2             NaN\n",
      "3             NaN\n",
      "4             NaN\n",
      "..            ...\n",
      "332           NaN\n",
      "333           NaN\n",
      "334           NaN\n",
      "335           NaN\n",
      "336           NaN\n",
      "\n",
      "[337 rows x 1 columns]\n"
     ]
    },
    {
     "ename": "NameError",
     "evalue": "name 'ET_storage_timeseries' is not defined",
     "output_type": "error",
     "traceback": [
      "\u001b[0;31m---------------------------------------------------------------------------\u001b[0m",
      "\u001b[0;31mNameError\u001b[0m                                 Traceback (most recent call last)",
      "\u001b[0;32m<ipython-input-15-26a362fa89ff>\u001b[0m in \u001b[0;36m<module>\u001b[0;34m\u001b[0m\n\u001b[1;32m      1\u001b[0m \u001b[0mDatum_ET_temp\u001b[0m\u001b[0;34m=\u001b[0m \u001b[0mpd\u001b[0m\u001b[0;34m.\u001b[0m\u001b[0mDataFrame\u001b[0m\u001b[0;34m(\u001b[0m\u001b[0mindex\u001b[0m\u001b[0;34m=\u001b[0m\u001b[0mnp\u001b[0m\u001b[0;34m.\u001b[0m\u001b[0marange\u001b[0m\u001b[0;34m(\u001b[0m\u001b[0;36m0\u001b[0m\u001b[0;34m,\u001b[0m\u001b[0mdata_length\u001b[0m\u001b[0;34m+\u001b[0m\u001b[0;36m1\u001b[0m\u001b[0;34m,\u001b[0m \u001b[0;36m1\u001b[0m\u001b[0;34m)\u001b[0m\u001b[0;34m,\u001b[0m \u001b[0mcolumns\u001b[0m\u001b[0;34m=\u001b[0m\u001b[0mcase_namelist\u001b[0m\u001b[0;34m)\u001b[0m\u001b[0;34m\u001b[0m\u001b[0;34m\u001b[0m\u001b[0m\n\u001b[1;32m      2\u001b[0m \u001b[0mprint\u001b[0m \u001b[0;34m(\u001b[0m\u001b[0mDatum_ET_temp\u001b[0m\u001b[0;34m)\u001b[0m\u001b[0;34m\u001b[0m\u001b[0;34m\u001b[0m\u001b[0m\n\u001b[0;32m----> 3\u001b[0;31m \u001b[0mprint\u001b[0m \u001b[0;34m(\u001b[0m\u001b[0mET_storage_timeseries\u001b[0m\u001b[0;34m)\u001b[0m\u001b[0;34m\u001b[0m\u001b[0;34m\u001b[0m\u001b[0m\n\u001b[0m\u001b[1;32m      4\u001b[0m \u001b[0mDatum_ET_temp\u001b[0m\u001b[0;34m[\u001b[0m\u001b[0mcase_index\u001b[0m\u001b[0;34m]\u001b[0m\u001b[0;34m=\u001b[0m\u001b[0mET_storage_timeseries\u001b[0m\u001b[0;34m\u001b[0m\u001b[0;34m\u001b[0m\u001b[0m\n\u001b[1;32m      5\u001b[0m \u001b[0;34m\u001b[0m\u001b[0m\n",
      "\u001b[0;31mNameError\u001b[0m: name 'ET_storage_timeseries' is not defined"
     ]
    }
   ],
   "source": [
    "Datum_ET_temp= pd.DataFrame(index=np.arange(0,data_length+1, 1), columns=case_namelist)\n",
    "print (Datum_ET_temp)\n",
    "print (ET_storage_timeseries)\n",
    "Datum_ET_temp[case_index]=ET_storage_timeseries\n",
    "\n",
    "# print (Datum_ET_temp)\n",
    "    \n",
    "# Datum_ET=Datum_ET_temp.shift(1, axis = 0) \n",
    "# the dataset seems a zero in the 0 timestep,\n",
    "Datum_ET=Datum_ET_temp\n",
    "print (Datum_ET)"
   ]
  },
  {
   "cell_type": "markdown",
   "metadata": {},
   "source": [
    "# read for surface runoff"
   ]
  },
  {
   "cell_type": "code",
   "execution_count": 16,
   "metadata": {},
   "outputs": [],
   "source": [
    "### since the surface runoff is computed from tcl script, setups are required in tcl script\n",
    "Datum_SR_temp= pd.DataFrame(index=np.arange(0,data_length+1, 1), columns=case_namelist)\n",
    "#### read surface runoff (SR)\n",
    "for case_index in case_namelist:\n",
    "    file_name_index= ('total_surface_runoff_%s.csv' %(case_index))\n",
    "    \n",
    "    data=pd.read_csv('./csv/%s' %file_name_index , header=None).iloc[:,1]\n",
    "\n",
    "    Datum_SR_temp[case_index]=data\n",
    "    \n",
    "### the values are computed at the end of each time step, when read 1-5, it put 0-4, so 1 shift is needed\n",
    "    Datum_SR=Datum_SR_temp.shift(1, axis = 0) "
   ]
  },
  {
   "cell_type": "markdown",
   "metadata": {},
   "source": [
    "# read precipitation"
   ]
  },
  {
   "cell_type": "code",
   "execution_count": 17,
   "metadata": {},
   "outputs": [
    {
     "name": "stdout",
     "output_type": "stream",
     "text": [
      "     pfclm2_base40\n",
      "0              NaN\n",
      "1              0.0\n",
      "2              0.0\n",
      "3              0.0\n",
      "4              0.0\n",
      "..             ...\n",
      "331            0.0\n",
      "332            0.0\n",
      "333            0.0\n",
      "334            0.0\n",
      "335            0.0\n",
      "\n",
      "[336 rows x 1 columns]\n"
     ]
    }
   ],
   "source": [
    "Datum_P_temp= pd.DataFrame(index=np.arange(0,data_length, 1), columns=case_namelist)\n",
    "### load precipitation, in unit of mm/s\n",
    "clm_input_path= '/home/chaochen/payette/chaochen/CZO/Chao/Demonstration_example/landlab_Const.Saprolite/clm_input'\n",
    "clm_input='narr_1hr_new_extended.txt'\n",
    "file = np.loadtxt('%s/%s' %(clm_input_path,clm_input)) \n",
    "\n",
    "precip_mms=file[0:data_length,2] \n",
    "precip_mh=precip_mms*3600/1000\n",
    "\n",
    "\n",
    "Datum_P_temp[case_index]=precip_mh*30*30*198*198\n",
    "Datum_P=Datum_P_temp.shift(1, axis = 0) \n",
    "print (Datum_P)"
   ]
  },
  {
   "cell_type": "markdown",
   "metadata": {},
   "source": [
    "# plotting"
   ]
  },
  {
   "cell_type": "code",
   "execution_count": 18,
   "metadata": {},
   "outputs": [
    {
     "name": "stdout",
     "output_type": "stream",
     "text": [
      "     pfclm2_base40\n",
      "0         0.000000\n",
      "1        58.813240\n",
      "2      1100.158840\n",
      "3      2226.786410\n",
      "4      3429.196666\n",
      "..             ...\n",
      "332      -4.371462\n",
      "333      -4.070094\n",
      "334      -4.542039\n",
      "335      -4.502750\n",
      "336      -4.276764\n",
      "\n",
      "[337 rows x 1 columns]\n"
     ]
    },
    {
     "ename": "NameError",
     "evalue": "name 'soilwater_volume_timeseries' is not defined",
     "output_type": "error",
     "traceback": [
      "\u001b[0;31m---------------------------------------------------------------------------\u001b[0m",
      "\u001b[0;31mNameError\u001b[0m                                 Traceback (most recent call last)",
      "\u001b[0;32m<ipython-input-18-4419c3ea57ba>\u001b[0m in \u001b[0;36m<module>\u001b[0;34m\u001b[0m\n\u001b[1;32m     10\u001b[0m \u001b[0;31m# computation delta storage, for soil storage\u001b[0m\u001b[0;34m\u001b[0m\u001b[0;34m\u001b[0m\u001b[0;34m\u001b[0m\u001b[0m\n\u001b[1;32m     11\u001b[0m \u001b[0mDelta_SoilS\u001b[0m\u001b[0;34m=\u001b[0m\u001b[0mpd\u001b[0m\u001b[0;34m.\u001b[0m\u001b[0mDataFrame\u001b[0m\u001b[0;34m(\u001b[0m\u001b[0mindex\u001b[0m\u001b[0;34m=\u001b[0m\u001b[0mnp\u001b[0m\u001b[0;34m.\u001b[0m\u001b[0marange\u001b[0m\u001b[0;34m(\u001b[0m\u001b[0;36m0\u001b[0m\u001b[0;34m,\u001b[0m\u001b[0mdata_length4storage\u001b[0m\u001b[0;34m,\u001b[0m \u001b[0;36m1\u001b[0m\u001b[0;34m)\u001b[0m\u001b[0;34m,\u001b[0m \u001b[0mcolumns\u001b[0m\u001b[0;34m=\u001b[0m\u001b[0mcase_namelist\u001b[0m\u001b[0;34m)\u001b[0m\u001b[0;34m\u001b[0m\u001b[0;34m\u001b[0m\u001b[0m\n\u001b[0;32m---> 12\u001b[0;31m \u001b[0mDelta_SoilS_b4shft\u001b[0m\u001b[0;34m=\u001b[0m\u001b[0mnp\u001b[0m\u001b[0;34m.\u001b[0m\u001b[0mdiff\u001b[0m\u001b[0;34m(\u001b[0m\u001b[0msoilwater_volume_timeseries\u001b[0m\u001b[0;34m,\u001b[0m\u001b[0maxis\u001b[0m\u001b[0;34m=\u001b[0m\u001b[0;36m0\u001b[0m\u001b[0;34m)\u001b[0m\u001b[0;34m\u001b[0m\u001b[0;34m\u001b[0m\u001b[0m\n\u001b[0m\u001b[1;32m     13\u001b[0m \u001b[0mDelta_SoilS_aftshft\u001b[0m\u001b[0;34m=\u001b[0m\u001b[0mnp\u001b[0m\u001b[0;34m.\u001b[0m\u001b[0minsert\u001b[0m\u001b[0;34m(\u001b[0m\u001b[0mDelta_SoilS_b4shft\u001b[0m\u001b[0;34m,\u001b[0m \u001b[0;36m0\u001b[0m\u001b[0;34m,\u001b[0m \u001b[0;34m[\u001b[0m\u001b[0;36m0\u001b[0m\u001b[0;34m]\u001b[0m\u001b[0;34m,\u001b[0m \u001b[0maxis\u001b[0m\u001b[0;34m=\u001b[0m\u001b[0;36m0\u001b[0m\u001b[0;34m)\u001b[0m\u001b[0;34m\u001b[0m\u001b[0;34m\u001b[0m\u001b[0m\n\u001b[1;32m     14\u001b[0m \u001b[0mDelta_SoilS\u001b[0m\u001b[0;34m[\u001b[0m\u001b[0mcase_index\u001b[0m\u001b[0;34m]\u001b[0m\u001b[0;34m=\u001b[0m\u001b[0mDelta_SoilS_aftshft\u001b[0m\u001b[0;34m\u001b[0m\u001b[0;34m\u001b[0m\u001b[0m\n",
      "\u001b[0;31mNameError\u001b[0m: name 'soilwater_volume_timeseries' is not defined"
     ]
    }
   ],
   "source": [
    "# data formating\n",
    "# computation delta storage, for SS\n",
    "Delta_SS=pd.DataFrame(index=np.arange(0,data_length4storage, 1), columns=case_namelist)\n",
    "Delta_SS_b4shft=np.diff(Datum_SS_temp,axis=0)\n",
    "Delta_SS_aftshft=np.insert(Delta_SS_b4shft, 0, [0], axis=0)\n",
    "Delta_SS[case_index]=Delta_SS_aftshft\n",
    "print (Delta_SS)\n",
    "\n",
    "# data formating\n",
    "# computation delta storage, for soil storage\n",
    "Delta_SoilS=pd.DataFrame(index=np.arange(0,data_length4storage, 1), columns=case_namelist)\n",
    "Delta_SoilS_b4shft=np.diff(soilwater_volume_timeseries,axis=0)\n",
    "Delta_SoilS_aftshft=np.insert(Delta_SoilS_b4shft, 0, [0], axis=0)\n",
    "Delta_SoilS[case_index]=Delta_SoilS_aftshft\n",
    "print (Delta_SoilS)\n",
    "\n",
    "# data formating\n",
    "# computation delta storage, for saprolite water storage\n",
    "Delta_SaproS=pd.DataFrame(index=np.arange(0,data_length4storage, 1), columns=case_namelist)\n",
    "Delta_SaproS_b4shft=np.diff(saprowater_volume_timeseries,axis=0)\n",
    "Delta_SaproS_aftshft=np.insert(Delta_SaproS_b4shft, 0, [0], axis=0)\n",
    "Delta_SaproS[case_index]=Delta_SaproS_aftshft\n",
    "print (Delta_SaproS)\n",
    "\n"
   ]
  },
  {
   "cell_type": "code",
   "execution_count": null,
   "metadata": {},
   "outputs": [],
   "source": [
    "# plt.plot (Datum_ET[1:100])\n",
    "# plt.plot(Delta_SaproS)\n",
    "# plt.plot(Delta_SoilS)\n",
    "# plt.plot(Delta_SS[1:100])\n",
    "# plt.plot(Datum_SR)\n",
    "# plt.plot(Datum_P)\n",
    "\n",
    "# plt.plot(Delta_SS+Delta_SoilS+Datum_SR+Delta_SaproS+Datum_ET[1:50])\n"
   ]
  },
  {
   "cell_type": "code",
   "execution_count": null,
   "metadata": {},
   "outputs": [],
   "source": [
    "plt.plot(soilwater_volume_timeseries+saprowater_volume_timeseries)"
   ]
  },
  {
   "cell_type": "code",
   "execution_count": null,
   "metadata": {},
   "outputs": [],
   "source": [
    "plt.plot(np.diff(soilwater_volume_timeseries+saprowater_volume_timeseries+Datum_SS_temp,axis=0)+Datum_SR)"
   ]
  },
  {
   "cell_type": "code",
   "execution_count": null,
   "metadata": {},
   "outputs": [],
   "source": []
  }
 ],
 "metadata": {
  "kernelspec": {
   "display_name": "Python 3",
   "language": "python",
   "name": "python3"
  },
  "language_info": {
   "codemirror_mode": {
    "name": "ipython",
    "version": 3
   },
   "file_extension": ".py",
   "mimetype": "text/x-python",
   "name": "python",
   "nbconvert_exporter": "python",
   "pygments_lexer": "ipython3",
   "version": "3.7.4"
  }
 },
 "nbformat": 4,
 "nbformat_minor": 2
}
