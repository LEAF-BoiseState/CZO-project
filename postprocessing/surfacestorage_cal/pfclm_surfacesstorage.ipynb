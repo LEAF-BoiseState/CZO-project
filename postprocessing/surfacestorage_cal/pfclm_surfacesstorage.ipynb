{
 "cells": [
  {
   "cell_type": "code",
   "execution_count": 1,
   "metadata": {},
   "outputs": [],
   "source": [
    "import matplotlib.pyplot as plt\n",
    "import pfb_functions as pfn\n",
    "import numpy as np\n",
    "import pandas as pd"
   ]
  },
  {
   "cell_type": "code",
   "execution_count": 2,
   "metadata": {},
   "outputs": [],
   "source": [
    "#-----------------------------------------------------------------------------\n",
    "# Set up run info\n",
    "#-----------------------------------------------------------------------------\n",
    "starttime =  1\n",
    "stoptime  =  336\n",
    "\n",
    "figure_output_frequency=1\n",
    "\n",
    "# \n",
    "case_namelist = ['pfclm1_base1','pfclm1_base40'\n",
    "                 'pfclm2_base1','pfclm2_base40']\n",
    "num_case = len(case_namelist)\n",
    "data_length = stoptime\n",
    "total_SS_storage_matrix =np.zeros((data_length,num_case),dtype=float)\n",
    "surface_SS_depth_matrix =np.zeros((data_length,num_case),dtype=float)\n"
   ]
  },
  {
   "cell_type": "code",
   "execution_count": 3,
   "metadata": {},
   "outputs": [],
   "source": [
    "#### read pfb file\n",
    "def SS_compute (file_path,case_index,time_step):\n",
    "\n",
    "#     if time_step >0:\n",
    "   \n",
    "    fnamepress = ('%s/%s.out.press.%05d.pfb' %(file_path,case_index,time_step))\n",
    "    press = pfn.read(fnamepress)\n",
    "    \n",
    "    SS_depth = press[:,:,15]>0\n",
    "    SS_storage = SS_depth*30*30\n",
    "    total_SS_storage = np.sum (SS_storage)\n",
    "    \n",
    "    return press\n"
   ]
  },
  {
   "cell_type": "code",
   "execution_count": 9,
   "metadata": {},
   "outputs": [
    {
     "data": {
      "text/plain": [
       "array([[6.17187469e+00, 1.02740632e+00, 8.55364043e-01, ...,\n",
       "        5.20302844e-02, 1.75547353e-02, 1.91058263e-04],\n",
       "       [6.16801400e+00, 1.02663799e+00, 8.54701207e-01, ...,\n",
       "        5.19901797e-02, 1.75483275e-02, 2.01699914e-04],\n",
       "       [6.17592952e+00, 1.02796717e+00, 8.55804695e-01, ...,\n",
       "        5.20684741e-02, 1.75824950e-02, 2.13632084e-04],\n",
       "       ...,\n",
       "       [6.16787043e+00, 1.02669046e+00, 8.54760335e-01, ...,\n",
       "        5.20054098e-02, 1.75595924e-02, 2.10955509e-04],\n",
       "       [6.16964677e+00, 1.02698987e+00, 8.55009546e-01, ...,\n",
       "        5.20119507e-02, 1.75553325e-02, 2.01244749e-04],\n",
       "       [6.17536245e+00, 1.02797495e+00, 8.55831893e-01, ...,\n",
       "        5.20298627e-02, 1.75375601e-02, 1.65761973e-04]])"
      ]
     },
     "execution_count": 9,
     "metadata": {},
     "output_type": "execute_result"
    }
   ],
   "source": [
    "press[press[:,:,15]>0]"
   ]
  },
  {
   "cell_type": "code",
   "execution_count": 22,
   "metadata": {},
   "outputs": [
    {
     "name": "stdout",
     "output_type": "stream",
     "text": [
      "[[ True False  True ... False False False]\n",
      " [False False False ... False False False]\n",
      " [False False False ... False False False]\n",
      " ...\n",
      " [False False False ... False False False]\n",
      " [False False False ... False False False]\n",
      " [False False False ... False False False]]\n"
     ]
    },
    {
     "ename": "TypeError",
     "evalue": "'numpy.ndarray' object is not callable",
     "output_type": "error",
     "traceback": [
      "\u001b[0;31m---------------------------------------------------------------------------\u001b[0m",
      "\u001b[0;31mTypeError\u001b[0m                                 Traceback (most recent call last)",
      "\u001b[0;32m<ipython-input-22-1c79594de3bb>\u001b[0m in \u001b[0;36m<module>\u001b[0;34m\u001b[0m\n\u001b[1;32m      3\u001b[0m \u001b[0mpress_top\u001b[0m\u001b[0;34m=\u001b[0m\u001b[0mpress\u001b[0m\u001b[0;34m[\u001b[0m\u001b[0;34m:\u001b[0m\u001b[0;34m,\u001b[0m\u001b[0;34m:\u001b[0m\u001b[0;34m,\u001b[0m\u001b[0;36m15\u001b[0m\u001b[0;34m]\u001b[0m\u001b[0;34m\u001b[0m\u001b[0;34m\u001b[0m\u001b[0m\n\u001b[1;32m      4\u001b[0m \u001b[0;31m# press_top\u001b[0m\u001b[0;34m\u001b[0m\u001b[0;34m\u001b[0m\u001b[0;34m\u001b[0m\u001b[0m\n\u001b[0;32m----> 5\u001b[0;31m \u001b[0mpress_top\u001b[0m\u001b[0;34m(\u001b[0m\u001b[0ma\u001b[0m\u001b[0;34m)\u001b[0m\u001b[0;34m\u001b[0m\u001b[0;34m\u001b[0m\u001b[0m\n\u001b[0m",
      "\u001b[0;31mTypeError\u001b[0m: 'numpy.ndarray' object is not callable"
     ]
    }
   ],
   "source": [
    "a=press[:,:,15]>0\n",
    "print (a)\n",
    "press_top=press[:,:,15]\n",
    "# press_top\n",
    "press_top"
   ]
  },
  {
   "cell_type": "code",
   "execution_count": 4,
   "metadata": {},
   "outputs": [],
   "source": [
    "# def write_1D (outputfile_depth_name,outputfile_volume_name,total_ET_storage,surface_ET_depth):\n",
    "#     np.savetxt(outputfile_depth_name,surface_ET_depth,delimiter=\",\")\n",
    "#     np.savetxt(outputfile_volume_name,total_ET_storage,delimiter=\",\")"
   ]
  },
  {
   "cell_type": "code",
   "execution_count": 5,
   "metadata": {},
   "outputs": [],
   "source": [
    "def plot_ws_2D (time_step,figure_output_frequency,data_3D,sfpath,case_name):\n",
    "    if time_step%figure_output_frequency==0:\n",
    "        plt.figure(figsize=(10, 7))\n",
    "        plt.pcolor(data_3D[:,:,15],cmap='jet')\n",
    "        plt.colorbar()\n",
    "        plt.savefig('%s/fig/%s_press_top_%05d.png'% (sfpath,case_name,time_step))\n",
    "        plt.close()     "
   ]
  },
  {
   "cell_type": "code",
   "execution_count": 6,
   "metadata": {},
   "outputs": [
    {
     "name": "stdout",
     "output_type": "stream",
     "text": [
      "pfclm1_base1\n",
      "0\n",
      "pfclm1_base1\n",
      "1\n",
      "pfclm1_base1\n",
      "2\n",
      "pfclm1_base1\n",
      "3\n",
      "pfclm1_base1\n",
      "4\n",
      "pfclm1_base1\n",
      "5\n",
      "pfclm1_base1\n",
      "6\n",
      "pfclm1_base1\n",
      "7\n",
      "pfclm1_base1\n",
      "8\n",
      "pfclm1_base1\n",
      "9\n",
      "pfclm1_base1\n",
      "10\n",
      "pfclm1_base1\n",
      "11\n",
      "pfclm1_base1\n",
      "12\n",
      "pfclm1_base1\n",
      "13\n",
      "pfclm1_base1\n",
      "14\n",
      "pfclm1_base1\n",
      "15\n",
      "pfclm1_base1\n",
      "16\n"
     ]
    },
    {
     "ename": "KeyboardInterrupt",
     "evalue": "",
     "output_type": "error",
     "traceback": [
      "\u001b[0;31m---------------------------------------------------------------------------\u001b[0m",
      "\u001b[0;31mKeyboardInterrupt\u001b[0m                         Traceback (most recent call last)",
      "\u001b[0;32m<ipython-input-6-080c83f9bb96>\u001b[0m in \u001b[0;36m<module>\u001b[0;34m\u001b[0m\n\u001b[1;32m     12\u001b[0m             \u001b[0mprint\u001b[0m \u001b[0;34m(\u001b[0m\u001b[0mcase_index\u001b[0m\u001b[0;34m)\u001b[0m\u001b[0;34m\u001b[0m\u001b[0;34m\u001b[0m\u001b[0m\n\u001b[1;32m     13\u001b[0m             \u001b[0mprint\u001b[0m \u001b[0;34m(\u001b[0m\u001b[0mtime_step\u001b[0m\u001b[0;34m)\u001b[0m\u001b[0;34m\u001b[0m\u001b[0;34m\u001b[0m\u001b[0m\n\u001b[0;32m---> 14\u001b[0;31m             \u001b[0;34m(\u001b[0m\u001b[0mpress\u001b[0m\u001b[0;34m)\u001b[0m \u001b[0;34m=\u001b[0m \u001b[0mSS_compute\u001b[0m\u001b[0;34m(\u001b[0m\u001b[0mfile_path\u001b[0m\u001b[0;34m,\u001b[0m\u001b[0mcase_index\u001b[0m\u001b[0;34m,\u001b[0m\u001b[0mtime_step\u001b[0m\u001b[0;34m)\u001b[0m\u001b[0;34m\u001b[0m\u001b[0;34m\u001b[0m\u001b[0m\n\u001b[0m\u001b[1;32m     15\u001b[0m             \u001b[0mplot_ws_2D\u001b[0m \u001b[0;34m(\u001b[0m\u001b[0mtime_step\u001b[0m\u001b[0;34m,\u001b[0m\u001b[0mfigure_output_frequency\u001b[0m\u001b[0;34m,\u001b[0m\u001b[0mpress\u001b[0m\u001b[0;34m,\u001b[0m\u001b[0msfpath\u001b[0m\u001b[0;34m,\u001b[0m\u001b[0mcase_index\u001b[0m\u001b[0;34m)\u001b[0m\u001b[0;34m\u001b[0m\u001b[0;34m\u001b[0m\u001b[0m\n\u001b[1;32m     16\u001b[0m \u001b[0;34m\u001b[0m\u001b[0m\n",
      "\u001b[0;32m<ipython-input-3-94c9f379f8d5>\u001b[0m in \u001b[0;36mSS_compute\u001b[0;34m(file_path, case_index, time_step)\u001b[0m\n\u001b[1;32m      5\u001b[0m \u001b[0;34m\u001b[0m\u001b[0m\n\u001b[1;32m      6\u001b[0m     \u001b[0mfnamepress\u001b[0m \u001b[0;34m=\u001b[0m \u001b[0;34m(\u001b[0m\u001b[0;34m'%s/%s.out.press.%05d.pfb'\u001b[0m \u001b[0;34m%\u001b[0m\u001b[0;34m(\u001b[0m\u001b[0mfile_path\u001b[0m\u001b[0;34m,\u001b[0m\u001b[0mcase_index\u001b[0m\u001b[0;34m,\u001b[0m\u001b[0mtime_step\u001b[0m\u001b[0;34m)\u001b[0m\u001b[0;34m)\u001b[0m\u001b[0;34m\u001b[0m\u001b[0;34m\u001b[0m\u001b[0m\n\u001b[0;32m----> 7\u001b[0;31m     \u001b[0mpress\u001b[0m \u001b[0;34m=\u001b[0m \u001b[0mpfn\u001b[0m\u001b[0;34m.\u001b[0m\u001b[0mread\u001b[0m\u001b[0;34m(\u001b[0m\u001b[0mfnamepress\u001b[0m\u001b[0;34m)\u001b[0m\u001b[0;34m\u001b[0m\u001b[0;34m\u001b[0m\u001b[0m\n\u001b[0m\u001b[1;32m      8\u001b[0m     \u001b[0;32mreturn\u001b[0m \u001b[0mpress\u001b[0m\u001b[0;34m\u001b[0m\u001b[0;34m\u001b[0m\u001b[0m\n",
      "\u001b[0;32m~/payette/chaochen/CZO/Chao/Demonstration_example/landlab_Const.Saprolite/postprocessing/surfacestorage_cal/pfb_functions.py\u001b[0m in \u001b[0;36mread\u001b[0;34m(fn)\u001b[0m\n\u001b[1;32m     38\u001b[0m                 \u001b[0;32mfor\u001b[0m \u001b[0mi\u001b[0m \u001b[0;32min\u001b[0m \u001b[0mnp\u001b[0m\u001b[0;34m.\u001b[0m\u001b[0marange\u001b[0m\u001b[0;34m(\u001b[0m\u001b[0miy\u001b[0m\u001b[0;34m,\u001b[0m\u001b[0miy\u001b[0m\u001b[0;34m+\u001b[0m\u001b[0mnny\u001b[0m\u001b[0;34m)\u001b[0m\u001b[0;34m:\u001b[0m\u001b[0;34m\u001b[0m\u001b[0;34m\u001b[0m\u001b[0m\n\u001b[1;32m     39\u001b[0m                     \u001b[0;32mfor\u001b[0m \u001b[0mj\u001b[0m \u001b[0;32min\u001b[0m \u001b[0mnp\u001b[0m\u001b[0;34m.\u001b[0m\u001b[0marange\u001b[0m\u001b[0;34m(\u001b[0m\u001b[0mix\u001b[0m\u001b[0;34m,\u001b[0m\u001b[0mix\u001b[0m\u001b[0;34m+\u001b[0m\u001b[0mnnx\u001b[0m\u001b[0;34m)\u001b[0m\u001b[0;34m:\u001b[0m\u001b[0;34m\u001b[0m\u001b[0;34m\u001b[0m\u001b[0m\n\u001b[0;32m---> 40\u001b[0;31m                         \u001b[0mvar\u001b[0m\u001b[0;34m[\u001b[0m\u001b[0mi\u001b[0m\u001b[0;34m,\u001b[0m\u001b[0mj\u001b[0m\u001b[0;34m,\u001b[0m\u001b[0mk\u001b[0m\u001b[0;34m]\u001b[0m\u001b[0;34m=\u001b[0m\u001b[0mnp\u001b[0m\u001b[0;34m.\u001b[0m\u001b[0mfromfile\u001b[0m\u001b[0;34m(\u001b[0m\u001b[0mfid\u001b[0m\u001b[0;34m,\u001b[0m\u001b[0mdtype\u001b[0m\u001b[0;34m=\u001b[0m\u001b[0;34m'>f8'\u001b[0m\u001b[0;34m,\u001b[0m \u001b[0mcount\u001b[0m\u001b[0;34m=\u001b[0m\u001b[0;36m1\u001b[0m\u001b[0;34m)\u001b[0m\u001b[0;34m\u001b[0m\u001b[0;34m\u001b[0m\u001b[0m\n\u001b[0m\u001b[1;32m     41\u001b[0m         \u001b[0;32mreturn\u001b[0m \u001b[0mvar\u001b[0m\u001b[0;34m\u001b[0m\u001b[0;34m\u001b[0m\u001b[0m\n\u001b[1;32m     42\u001b[0m \u001b[0;34m\u001b[0m\u001b[0m\n",
      "\u001b[0;32m~/build_apps/anaconda2/lib/python3.7/codecs.py\u001b[0m in \u001b[0;36msetstate\u001b[0;34m(self, state)\u001b[0m\n\u001b[1;32m    333\u001b[0m         \u001b[0;32mreturn\u001b[0m \u001b[0;34m(\u001b[0m\u001b[0mself\u001b[0m\u001b[0;34m.\u001b[0m\u001b[0mbuffer\u001b[0m\u001b[0;34m,\u001b[0m \u001b[0;36m0\u001b[0m\u001b[0;34m)\u001b[0m\u001b[0;34m\u001b[0m\u001b[0;34m\u001b[0m\u001b[0m\n\u001b[1;32m    334\u001b[0m \u001b[0;34m\u001b[0m\u001b[0m\n\u001b[0;32m--> 335\u001b[0;31m     \u001b[0;32mdef\u001b[0m \u001b[0msetstate\u001b[0m\u001b[0;34m(\u001b[0m\u001b[0mself\u001b[0m\u001b[0;34m,\u001b[0m \u001b[0mstate\u001b[0m\u001b[0;34m)\u001b[0m\u001b[0;34m:\u001b[0m\u001b[0;34m\u001b[0m\u001b[0;34m\u001b[0m\u001b[0m\n\u001b[0m\u001b[1;32m    336\u001b[0m         \u001b[0;31m# ignore additional state info\u001b[0m\u001b[0;34m\u001b[0m\u001b[0;34m\u001b[0m\u001b[0;34m\u001b[0m\u001b[0m\n\u001b[1;32m    337\u001b[0m         \u001b[0mself\u001b[0m\u001b[0;34m.\u001b[0m\u001b[0mbuffer\u001b[0m \u001b[0;34m=\u001b[0m \u001b[0mstate\u001b[0m\u001b[0;34m[\u001b[0m\u001b[0;36m0\u001b[0m\u001b[0;34m]\u001b[0m\u001b[0;34m\u001b[0m\u001b[0;34m\u001b[0m\u001b[0m\n",
      "\u001b[0;31mKeyboardInterrupt\u001b[0m: "
     ]
    }
   ],
   "source": [
    "# Main function\n",
    "if __name__ == \"__main__\":\n",
    "\n",
    "    outputfile_depth_name = ('/home/chaochen/payette/chaochen/CZO/Chao/Demonstration_example/landlab_Const.Saprolite/postprocessing/surfacestorage_cal/ET_depth.csv')\n",
    "    outputfile_volume_name = ('/home/chaochen/payette/chaochen/CZO/Chao/Demonstration_example/landlab_Const.Saprolite/postprocessing/surfacestorage_cal/ET_volume.csv')\n",
    "\n",
    "    sfpath=('/home/chaochen/payette/chaochen/CZO/Chao/Demonstration_example/landlab_Const.Saprolite/postprocessing/surfacestorage_cal/')\n",
    "    for case_index in case_namelist:\n",
    "        file_path=('/home/chaochen/payette/chaochen/CZO/Chao/Demonstration_example/landlab_Const.Saprolite/extended_simulation/outputs_%s' %(case_index))\n",
    "        for time_step in range(stoptime):\n",
    "            \n",
    "            print (case_index)\n",
    "            print (time_step)\n",
    "            (press) = SS_compute(file_path,case_index,time_step)\n",
    "            plot_ws_2D (time_step,figure_output_frequency,press,sfpath,case_index)\n",
    "\n",
    "        # oupt location and file name\n",
    "        \n",
    "#             if time_step%stoptime:\n",
    "#     #                 plot_ws_1D (time_step, total_soilwater_depth,total_saprowater_depth)\n",
    "#                 write_1D (outputfile_depth_name,outputfile_volume_name,total_ET_storage,surface_ET_depth)\n",
    "                "
   ]
  },
  {
   "cell_type": "code",
   "execution_count": null,
   "metadata": {},
   "outputs": [],
   "source": []
  },
  {
   "cell_type": "code",
   "execution_count": null,
   "metadata": {},
   "outputs": [],
   "source": []
  }
 ],
 "metadata": {
  "kernelspec": {
   "display_name": "Python 3",
   "language": "python",
   "name": "python3"
  },
  "language_info": {
   "codemirror_mode": {
    "name": "ipython",
    "version": 3
   },
   "file_extension": ".py",
   "mimetype": "text/x-python",
   "name": "python",
   "nbconvert_exporter": "python",
   "pygments_lexer": "ipython3",
   "version": "3.7.4"
  }
 },
 "nbformat": 4,
 "nbformat_minor": 2
}
